{
 "cells": [
  {
   "cell_type": "code",
   "execution_count": 1,
   "metadata": {},
   "outputs": [
    {
     "name": "stdout",
     "output_type": "stream",
     "text": [
      "Loaded pretrained weights for efficientnet-b0\n",
      "\n",
      "[Epoch 1/100]\n"
     ]
    },
    {
     "name": "stderr",
     "output_type": "stream",
     "text": [
      "                                                         \r"
     ]
    },
    {
     "name": "stdout",
     "output_type": "stream",
     "text": [
      "Train Loss: 1.8393 | Train Acc: 0.3234 | Val Loss: 1.9072 | Val Acc: 0.4859\n",
      "  [*] Best model saved.\n",
      "\n",
      "[Epoch 2/100]\n"
     ]
    },
    {
     "name": "stderr",
     "output_type": "stream",
     "text": [
      "                                                         \r"
     ]
    },
    {
     "name": "stdout",
     "output_type": "stream",
     "text": [
      "Train Loss: 1.1525 | Train Acc: 0.6723 | Val Loss: 1.1245 | Val Acc: 0.7684\n",
      "  [*] Best model saved.\n",
      "\n",
      "[Epoch 3/100]\n"
     ]
    },
    {
     "name": "stderr",
     "output_type": "stream",
     "text": [
      "                                                         \r"
     ]
    },
    {
     "name": "stdout",
     "output_type": "stream",
     "text": [
      "Train Loss: 0.9127 | Train Acc: 0.8121 | Val Loss: 1.4322 | Val Acc: 0.6893\n",
      "\n",
      "[Epoch 4/100]\n"
     ]
    },
    {
     "name": "stderr",
     "output_type": "stream",
     "text": [
      "                                                         \r"
     ]
    },
    {
     "name": "stdout",
     "output_type": "stream",
     "text": [
      "Train Loss: 0.7222 | Train Acc: 0.9082 | Val Loss: 1.1184 | Val Acc: 0.7232\n",
      "\n",
      "[Epoch 5/100]\n"
     ]
    },
    {
     "name": "stderr",
     "output_type": "stream",
     "text": [
      "                                                         \r"
     ]
    },
    {
     "name": "stdout",
     "output_type": "stream",
     "text": [
      "Train Loss: 0.6162 | Train Acc: 0.9534 | Val Loss: 0.7494 | Val Acc: 0.8701\n",
      "  [*] Best model saved.\n",
      "\n",
      "[Epoch 6/100]\n"
     ]
    },
    {
     "name": "stderr",
     "output_type": "stream",
     "text": [
      "                                                         \r"
     ]
    },
    {
     "name": "stdout",
     "output_type": "stream",
     "text": [
      "Train Loss: 0.5773 | Train Acc: 0.9562 | Val Loss: 0.7841 | Val Acc: 0.8644\n",
      "\n",
      "[Epoch 7/100]\n"
     ]
    },
    {
     "name": "stderr",
     "output_type": "stream",
     "text": [
      "                                                         \r"
     ]
    },
    {
     "name": "stdout",
     "output_type": "stream",
     "text": [
      "Train Loss: 0.5712 | Train Acc: 0.9732 | Val Loss: 0.8202 | Val Acc: 0.8531\n",
      "\n",
      "[Epoch 8/100]\n"
     ]
    },
    {
     "name": "stderr",
     "output_type": "stream",
     "text": [
      "                                                         \r"
     ]
    },
    {
     "name": "stdout",
     "output_type": "stream",
     "text": [
      "Train Loss: 0.6328 | Train Acc: 0.9463 | Val Loss: 0.8915 | Val Acc: 0.8701\n",
      "\n",
      "[Epoch 9/100]\n"
     ]
    },
    {
     "name": "stderr",
     "output_type": "stream",
     "text": [
      "                                                         \r"
     ]
    },
    {
     "name": "stdout",
     "output_type": "stream",
     "text": [
      "Train Loss: 0.5365 | Train Acc: 0.9718 | Val Loss: 0.8251 | Val Acc: 0.8531\n",
      "\n",
      "[Epoch 10/100]\n"
     ]
    },
    {
     "name": "stderr",
     "output_type": "stream",
     "text": [
      "                                                         "
     ]
    },
    {
     "name": "stdout",
     "output_type": "stream",
     "text": [
      "Train Loss: 0.5840 | Train Acc: 0.9576 | Val Loss: 0.8209 | Val Acc: 0.8757\n"
     ]
    },
    {
     "name": "stderr",
     "output_type": "stream",
     "text": [
      "\r"
     ]
    },
    {
     "name": "stdout",
     "output_type": "stream",
     "text": [
      "  [*] Best model saved.\n",
      "\n",
      "[Epoch 11/100]\n"
     ]
    },
    {
     "name": "stderr",
     "output_type": "stream",
     "text": [
      "                                                         \r"
     ]
    },
    {
     "name": "stdout",
     "output_type": "stream",
     "text": [
      "Train Loss: 0.6035 | Train Acc: 0.9506 | Val Loss: 0.7690 | Val Acc: 0.8870\n",
      "  [*] Best model saved.\n",
      "\n",
      "[Epoch 12/100]\n"
     ]
    },
    {
     "name": "stderr",
     "output_type": "stream",
     "text": [
      "                                                         \r"
     ]
    },
    {
     "name": "stdout",
     "output_type": "stream",
     "text": [
      "Train Loss: 0.5294 | Train Acc: 0.9760 | Val Loss: 0.7874 | Val Acc: 0.8644\n",
      "\n",
      "[Epoch 13/100]\n"
     ]
    },
    {
     "name": "stderr",
     "output_type": "stream",
     "text": [
      "                                                         \r"
     ]
    },
    {
     "name": "stdout",
     "output_type": "stream",
     "text": [
      "Train Loss: 0.5110 | Train Acc: 0.9802 | Val Loss: 0.7942 | Val Acc: 0.8644\n",
      "\n",
      "[Epoch 14/100]\n"
     ]
    },
    {
     "name": "stderr",
     "output_type": "stream",
     "text": [
      "                                                         \r"
     ]
    },
    {
     "name": "stdout",
     "output_type": "stream",
     "text": [
      "Train Loss: 0.4802 | Train Acc: 0.9915 | Val Loss: 0.7154 | Val Acc: 0.8983\n",
      "  [*] Best model saved.\n",
      "\n",
      "[Epoch 15/100]\n"
     ]
    },
    {
     "name": "stderr",
     "output_type": "stream",
     "text": [
      "                                                         \r"
     ]
    },
    {
     "name": "stdout",
     "output_type": "stream",
     "text": [
      "Train Loss: 0.5016 | Train Acc: 0.9915 | Val Loss: 0.6939 | Val Acc: 0.9153\n",
      "  [*] Best model saved.\n",
      "\n",
      "[Epoch 16/100]\n"
     ]
    },
    {
     "name": "stderr",
     "output_type": "stream",
     "text": [
      "                                                         \r"
     ]
    },
    {
     "name": "stdout",
     "output_type": "stream",
     "text": [
      "Train Loss: 0.5150 | Train Acc: 0.9831 | Val Loss: 0.8786 | Val Acc: 0.7627\n",
      "\n",
      "[Epoch 17/100]\n"
     ]
    },
    {
     "name": "stderr",
     "output_type": "stream",
     "text": [
      "                                                         \r"
     ]
    },
    {
     "name": "stdout",
     "output_type": "stream",
     "text": [
      "Train Loss: 0.5537 | Train Acc: 0.9661 | Val Loss: 0.8158 | Val Acc: 0.8757\n",
      "\n",
      "[Epoch 18/100]\n"
     ]
    },
    {
     "name": "stderr",
     "output_type": "stream",
     "text": [
      "                                                         \r"
     ]
    },
    {
     "name": "stdout",
     "output_type": "stream",
     "text": [
      "Train Loss: 0.5286 | Train Acc: 0.9802 | Val Loss: 0.7360 | Val Acc: 0.9040\n",
      "\n",
      "[Epoch 19/100]\n"
     ]
    },
    {
     "name": "stderr",
     "output_type": "stream",
     "text": [
      "                                                         \r"
     ]
    },
    {
     "name": "stdout",
     "output_type": "stream",
     "text": [
      "Train Loss: 0.4795 | Train Acc: 0.9944 | Val Loss: 0.7404 | Val Acc: 0.9040\n",
      "\n",
      "[Epoch 20/100]\n"
     ]
    },
    {
     "name": "stderr",
     "output_type": "stream",
     "text": [
      "                                                         \r"
     ]
    },
    {
     "name": "stdout",
     "output_type": "stream",
     "text": [
      "Train Loss: 0.5080 | Train Acc: 0.9873 | Val Loss: 0.8138 | Val Acc: 0.8701\n",
      "\n",
      "[Epoch 21/100]\n"
     ]
    },
    {
     "name": "stderr",
     "output_type": "stream",
     "text": [
      "                                                         \r"
     ]
    },
    {
     "name": "stdout",
     "output_type": "stream",
     "text": [
      "Train Loss: 0.4831 | Train Acc: 0.9929 | Val Loss: 0.8396 | Val Acc: 0.8362\n",
      "\n",
      "[Epoch 22/100]\n"
     ]
    },
    {
     "name": "stderr",
     "output_type": "stream",
     "text": [
      "                                                         \r"
     ]
    },
    {
     "name": "stdout",
     "output_type": "stream",
     "text": [
      "Train Loss: 0.5333 | Train Acc: 0.9689 | Val Loss: 0.8232 | Val Acc: 0.8588\n",
      "\n",
      "[Epoch 23/100]\n"
     ]
    },
    {
     "name": "stderr",
     "output_type": "stream",
     "text": [
      "                                                         \r"
     ]
    },
    {
     "name": "stdout",
     "output_type": "stream",
     "text": [
      "Train Loss: 0.5132 | Train Acc: 0.9802 | Val Loss: 0.7619 | Val Acc: 0.8531\n",
      "\n",
      "[Epoch 24/100]\n"
     ]
    },
    {
     "name": "stderr",
     "output_type": "stream",
     "text": [
      "                                                         \r"
     ]
    },
    {
     "name": "stdout",
     "output_type": "stream",
     "text": [
      "Train Loss: 0.5334 | Train Acc: 0.9746 | Val Loss: 0.7899 | Val Acc: 0.8588\n",
      "\n",
      "[Epoch 25/100]\n"
     ]
    },
    {
     "name": "stderr",
     "output_type": "stream",
     "text": [
      "                                                         "
     ]
    },
    {
     "name": "stdout",
     "output_type": "stream",
     "text": [
      "Train Loss: 0.4834 | Train Acc: 0.9915 | Val Loss: 0.7984 | Val Acc: 0.8531\n",
      "Early Stopping Triggered!\n",
      "\n",
      "Best Accuracy: 0.9153\n"
     ]
    },
    {
     "name": "stderr",
     "output_type": "stream",
     "text": [
      "\r"
     ]
    }
   ],
   "source": [
    "import random\n",
    "import numpy as np\n",
    "import torch\n",
    "import torch.nn as nn\n",
    "import torch.optim as optim\n",
    "import torchvision.models as models\n",
    "from torchvision import datasets, transforms\n",
    "from torch.utils.data import DataLoader, random_split\n",
    "from efficientnet_pytorch import EfficientNet\n",
    "from tqdm import tqdm\n",
    "\n",
    "# ✅ SEED 설정 (재현성 확보)\n",
    "seed = 2021\n",
    "random.seed(seed)\n",
    "np.random.seed(seed)\n",
    "torch.manual_seed(seed)\n",
    "torch.cuda.manual_seed_all(seed)\n",
    "torch.backends.cudnn.deterministic = True\n",
    "torch.backends.cudnn.benchmark = False\n",
    "\n",
    "# ✅ EarlyStopping\n",
    "class EarlyStopping:\n",
    "    def __init__(self, patience=10, delta=0.001):\n",
    "        self.patience = patience\n",
    "        self.delta = delta\n",
    "        self.best_loss = None\n",
    "        self.counter = 0\n",
    "        self.early_stop = False\n",
    "    def __call__(self, val_loss):\n",
    "        if self.best_loss is None or val_loss < self.best_loss - self.delta:\n",
    "            self.best_loss = val_loss\n",
    "            self.counter = 0\n",
    "        else:\n",
    "            self.counter += 1\n",
    "            if self.counter >= self.patience:\n",
    "                self.early_stop = True\n",
    "\n",
    "# ✅ Residual Block 정의\n",
    "class ResidualBlock(nn.Module):\n",
    "    def __init__(self, in_channels, out_channels, stride=1):\n",
    "        super(ResidualBlock, self).__init__()\n",
    "        self.conv1 = nn.Conv2d(in_channels, out_channels, kernel_size=3, stride=stride, padding=1)\n",
    "        self.bn1 = nn.BatchNorm2d(out_channels)\n",
    "        self.conv2 = nn.Conv2d(out_channels, out_channels, kernel_size=3, stride=1, padding=1)\n",
    "        self.bn2 = nn.BatchNorm2d(out_channels)\n",
    "\n",
    "        self.shortcut = nn.Sequential()\n",
    "        if in_channels != out_channels or stride != 1:\n",
    "            self.shortcut = nn.Sequential(\n",
    "                nn.Conv2d(in_channels, out_channels, kernel_size=1, stride=stride),\n",
    "                nn.BatchNorm2d(out_channels)\n",
    "            )\n",
    "\n",
    "    def forward(self, x):\n",
    "        residual = self.shortcut(x)\n",
    "        x = nn.ReLU()(self.bn1(self.conv1(x)))\n",
    "        x = self.bn2(self.conv2(x))\n",
    "        x += residual\n",
    "        return nn.ReLU()(x)\n",
    "\n",
    "# ✅ ASPP Block 정의\n",
    "class ASPP(nn.Module):\n",
    "    def __init__(self, in_channels, out_channels=256):\n",
    "        super(ASPP, self).__init__()\n",
    "        self.conv1 = nn.Conv2d(in_channels, out_channels, kernel_size=1)\n",
    "        self.conv3_1 = nn.Conv2d(in_channels, out_channels, kernel_size=3, padding=3, dilation=3)\n",
    "        self.conv3_6 = nn.Conv2d(in_channels, out_channels, kernel_size=3, padding=9, dilation=9)\n",
    "        self.conv3_12 = nn.Conv2d(in_channels, out_channels, kernel_size=3, padding=15, dilation=15)\n",
    "        self.global_avg_pool = nn.AdaptiveAvgPool2d((1, 1))\n",
    "        self.conv1_for_global = nn.Conv2d(in_channels, out_channels, kernel_size=1)\n",
    "        self.conv1x1_out = nn.Conv2d(out_channels * 5, out_channels, kernel_size=1)\n",
    "\n",
    "    def forward(self, x):\n",
    "        conv1_out = self.conv1(x)\n",
    "        conv3_1_out = self.conv3_1(x)\n",
    "        conv3_6_out = self.conv3_6(x)\n",
    "        conv3_12_out = self.conv3_12(x)\n",
    "\n",
    "        global_avg = self.global_avg_pool(x)\n",
    "        global_avg = self.conv1_for_global(global_avg)\n",
    "        global_avg = nn.functional.interpolate(global_avg, size=conv1_out.shape[2:], mode='bilinear', align_corners=True)\n",
    "\n",
    "        out = torch.cat([conv1_out, conv3_1_out, conv3_6_out, conv3_12_out, global_avg], dim=1)\n",
    "        return self.conv1x1_out(out)\n",
    "\n",
    "# ✅ Hybrid Model (EfficientNet + VGG19 + Residual + ASPP)\n",
    "class HybridModel(nn.Module):\n",
    "    def __init__(self, num_classes=6):\n",
    "        super(HybridModel, self).__init__()\n",
    "        self.efficientnet = EfficientNet.from_pretrained('efficientnet-b0')\n",
    "        self.efficientnet._fc = nn.Identity()\n",
    "\n",
    "        self.vgg = models.vgg19(weights=models.VGG19_Weights.IMAGENET1K_V1)\n",
    "        self.vgg.classifier = nn.Identity()\n",
    "\n",
    "        # ✅ VGG 일부 Freeze 적용 (초반부만 Freeze)\n",
    "        for name, param in self.vgg.named_parameters():\n",
    "            if \"features.0\" in name or \"features.1\" in name or \"features.2\" in name or \"features.3\" in name or \"features.4\" in name or \"features.5\" in name:\n",
    "                param.requires_grad = False  # ✅ 초반부 레이어는 Freeze\n",
    "            else:\n",
    "                param.requires_grad = True   # ✅ 이후의 레이어는 학습 가능\n",
    "\n",
    "        efficientnet_out_features = self.efficientnet._conv_head.out_channels  # 1280\n",
    "        vgg_out_features = 512  # VGG19의 출력 채널 수\n",
    "\n",
    "        self.efficientnet_pool = nn.AdaptiveAvgPool2d((7, 7))\n",
    "        self.vgg_pool = nn.AdaptiveAvgPool2d((7, 7))\n",
    "\n",
    "        self.eff_conv1x1 = nn.Conv2d(efficientnet_out_features, 1024, kernel_size=1)\n",
    "        self.vgg_conv1x1 = nn.Conv2d(vgg_out_features, 1024, kernel_size=1)\n",
    "\n",
    "        self.res_block = ResidualBlock(2048, 2048)  \n",
    "        self.aspp = ASPP(in_channels=2048, out_channels=256)\n",
    "\n",
    "        self.global_avg_pool = nn.AdaptiveAvgPool2d((1, 1))  # GAP 추가\n",
    "        self.classifier = nn.Sequential(\n",
    "            nn.Linear(256, 512),  # 256 차원에서 512 차원으로 축소\n",
    "            nn.ReLU(),\n",
    "            nn.Dropout(0.3),  \n",
    "            nn.Linear(512, num_classes)\n",
    "        )\n",
    "\n",
    "    def forward(self, x):\n",
    "        eff_features = self.efficientnet.extract_features(x)\n",
    "        eff_features = self.efficientnet_pool(eff_features)\n",
    "        eff_features = self.eff_conv1x1(eff_features)\n",
    "\n",
    "        vgg_features = self.vgg.features(x)\n",
    "        vgg_features = self.vgg_pool(vgg_features)\n",
    "        vgg_features = self.vgg_conv1x1(vgg_features)\n",
    "\n",
    "        fused_features = torch.cat([eff_features, vgg_features], dim=1)  \n",
    "        fused_features = self.res_block(fused_features)  \n",
    "        aspp_features = self.aspp(fused_features)\n",
    "        gap_features = self.global_avg_pool(aspp_features)\n",
    "        flattened_features = gap_features.view(gap_features.size(0), -1)\n",
    "        return self.classifier(flattened_features)\n",
    "\n",
    "\n",
    "\n",
    "# ==============================\n",
    "# ✅ 데이터 로딩\n",
    "# ==============================\n",
    "image_size = 224\n",
    "transform = transforms.Compose([\n",
    "    transforms.Resize((image_size, image_size)),\n",
    "    transforms.ToTensor(),\n",
    "    transforms.Normalize([0.485, 0.456, 0.406], [0.229, 0.224, 0.225])\n",
    "])\n",
    "\n",
    "dataset_path = \"C:/Users/IIALAB/Desktop/kdm/solar/kaggle/input/solar-panel-images/Faulty_solar_panel\"\n",
    "\n",
    "dataset = datasets.ImageFolder(root=dataset_path, transform=transform)\n",
    "train_size = int(0.8 * len(dataset))\n",
    "test_size = len(dataset) - train_size\n",
    "train_dataset, test_dataset = random_split(dataset, [train_size, test_size])\n",
    "\n",
    "train_loader = DataLoader(train_dataset, batch_size=32, shuffle=True)\n",
    "test_loader = DataLoader(test_dataset, batch_size=32, shuffle=False)\n",
    "\n",
    "# ==============================\n",
    "# ✅ 모델, 손실 함수, 최적화기 설정\n",
    "# ==============================\n",
    "device = torch.device(\"cuda\" if torch.cuda.is_available() else \"cpu\")\n",
    "model = HybridModel(num_classes=6).to(device)  # 모델을 먼저 생성해야 함!\n",
    "\n",
    "criterion = nn.CrossEntropyLoss(label_smoothing=0.1)\n",
    "optimizer = optim.AdamW(model.parameters(), lr=0.001)\n",
    "\n",
    "# ✅ Early Stopping 적용\n",
    "early_stopping = EarlyStopping(patience=10)\n",
    "\n",
    "# ✅ 학습 함수\n",
    "def train(model, train_loader, criterion, optimizer):\n",
    "    model.train()\n",
    "    running_loss, correct, total = 0.0, 0, 0\n",
    "\n",
    "    for images, labels in tqdm(train_loader, desc=\"Training\", leave=False):\n",
    "        images, labels = images.to(device), labels.to(device)\n",
    "        optimizer.zero_grad()\n",
    "\n",
    "        outputs = model(images)\n",
    "        loss = criterion(outputs, labels)\n",
    "        loss.backward()\n",
    "        optimizer.step()\n",
    "\n",
    "        running_loss += loss.item() * images.size(0)\n",
    "        preds = outputs.argmax(dim=1)\n",
    "        correct += (preds == labels).sum().item()\n",
    "        total += labels.size(0)\n",
    "\n",
    "    return running_loss / total, correct / total\n",
    "\n",
    "# ✅ 평가 함수\n",
    "def evaluate(model, val_loader, criterion):\n",
    "    model.eval()\n",
    "    running_loss, correct, total = 0.0, 0, 0\n",
    "\n",
    "    with torch.no_grad():\n",
    "        for images, labels in tqdm(val_loader, desc=\"Evaluating\", leave=False):\n",
    "            images, labels = images.to(device), labels.to(device)\n",
    "            outputs = model(images)\n",
    "            loss = criterion(outputs, labels)\n",
    "\n",
    "            running_loss += loss.item() * images.size(0)\n",
    "            preds = outputs.argmax(dim=1)\n",
    "            correct += (preds == labels).sum().item()\n",
    "            total += labels.size(0)\n",
    "\n",
    "    return running_loss / total, correct / total\n",
    "\n",
    "# ✅ 학습 루프\n",
    "best_acc = 0.0\n",
    "num_epochs = 100\n",
    "\n",
    "for epoch in range(num_epochs):\n",
    "    print(f\"\\n[Epoch {epoch+1}/{num_epochs}]\")\n",
    "    train_loss, train_acc = train(model, train_loader, criterion, optimizer)\n",
    "    val_loss, val_acc = evaluate(model, test_loader, criterion)\n",
    "\n",
    "    print(f\"Train Loss: {train_loss:.4f} | Train Acc: {train_acc:.4f} | Val Loss: {val_loss:.4f} | Val Acc: {val_acc:.4f}\")\n",
    "\n",
    "    if val_acc > best_acc:\n",
    "        best_acc = val_acc\n",
    "        torch.save(model.state_dict(), \"best_model.pth\")\n",
    "        print(\"  [*] Best model saved.\")\n",
    "\n",
    "    early_stopping(val_loss)\n",
    "    if early_stopping.early_stop:\n",
    "        print(\"Early Stopping Triggered!\")\n",
    "        break\n",
    "\n",
    "print(f\"\\nBest Accuracy: {best_acc:.4f}\")\n",
    "\n"
   ]
  },
  {
   "cell_type": "code",
   "execution_count": null,
   "metadata": {},
   "outputs": [],
   "source": [
    "import random\n",
    "import numpy as np\n",
    "import torch\n",
    "import torch.nn as nn\n",
    "import torch.optim as optim\n",
    "import torchvision.models as models\n",
    "from torchvision import datasets, transforms\n",
    "from torch.utils.data import DataLoader, random_split\n",
    "from efficientnet_pytorch import EfficientNet\n",
    "from tqdm import tqdm\n",
    "\n",
    "# ✅ SEED 설정 (재현성 확보)\n",
    "seed = 2021\n",
    "random.seed(seed)\n",
    "np.random.seed(seed)\n",
    "torch.manual_seed(seed)\n",
    "torch.cuda.manual_seed_all(seed)\n",
    "torch.backends.cudnn.deterministic = True\n",
    "torch.backends.cudnn.benchmark = False\n",
    "\n",
    "# ✅ EarlyStopping\n",
    "class EarlyStopping:\n",
    "    def __init__(self, patience=10, delta=0.001):\n",
    "        self.patience = patience\n",
    "        self.delta = delta\n",
    "        self.best_loss = None\n",
    "        self.counter = 0\n",
    "        self.early_stop = False\n",
    "    def __call__(self, val_loss):\n",
    "        if self.best_loss is None or val_loss < self.best_loss - self.delta:\n",
    "            self.best_loss = val_loss\n",
    "            self.counter = 0\n",
    "        else:\n",
    "            self.counter += 1\n",
    "            if self.counter >= self.patience:\n",
    "                self.early_stop = True\n",
    "\n",
    "# ✅ Residual Block 정의\n",
    "class ResidualBlock(nn.Module):\n",
    "    def __init__(self, in_channels, out_channels, stride=1):\n",
    "        super(ResidualBlock, self).__init__()\n",
    "        self.conv1 = nn.Conv2d(in_channels, out_channels, kernel_size=3, stride=stride, padding=1)\n",
    "        self.bn1 = nn.BatchNorm2d(out_channels)\n",
    "        self.conv2 = nn.Conv2d(out_channels, out_channels, kernel_size=3, stride=1, padding=1)\n",
    "        self.bn2 = nn.BatchNorm2d(out_channels)\n",
    "\n",
    "        self.shortcut = nn.Sequential()\n",
    "        if in_channels != out_channels or stride != 1:\n",
    "            self.shortcut = nn.Sequential(\n",
    "                nn.Conv2d(in_channels, out_channels, kernel_size=1, stride=stride),\n",
    "                nn.BatchNorm2d(out_channels)\n",
    "            )\n",
    "\n",
    "    def forward(self, x):\n",
    "        residual = self.shortcut(x)\n",
    "        x = nn.ReLU()(self.bn1(self.conv1(x)))\n",
    "        x = self.bn2(self.conv2(x))\n",
    "        x += residual\n",
    "        return nn.ReLU()(x)\n",
    "\n",
    "# ✅ ASPP Block 정의\n",
    "class ASPP(nn.Module):\n",
    "    def __init__(self, in_channels, out_channels=256):\n",
    "        super(ASPP, self).__init__()\n",
    "        self.conv1 = nn.Conv2d(in_channels, out_channels, kernel_size=1)\n",
    "        self.conv3_1 = nn.Conv2d(in_channels, out_channels, kernel_size=3, padding=3, dilation=3)\n",
    "        self.conv3_6 = nn.Conv2d(in_channels, out_channels, kernel_size=3, padding=9, dilation=9)\n",
    "        self.conv3_12 = nn.Conv2d(in_channels, out_channels, kernel_size=3, padding=15, dilation=15)\n",
    "        self.global_avg_pool = nn.AdaptiveAvgPool2d((1, 1))\n",
    "        self.conv1_for_global = nn.Conv2d(in_channels, out_channels, kernel_size=1)\n",
    "        self.conv1x1_out = nn.Conv2d(out_channels * 5, out_channels, kernel_size=1)\n",
    "\n",
    "    def forward(self, x):\n",
    "        conv1_out = self.conv1(x)\n",
    "        conv3_1_out = self.conv3_1(x)\n",
    "        conv3_6_out = self.conv3_6(x)\n",
    "        conv3_12_out = self.conv3_12(x)\n",
    "\n",
    "        global_avg = self.global_avg_pool(x)\n",
    "        global_avg = self.conv1_for_global(global_avg)\n",
    "        global_avg = nn.functional.interpolate(global_avg, size=conv1_out.shape[2:], mode='bilinear', align_corners=True)\n",
    "\n",
    "        out = torch.cat([conv1_out, conv3_1_out, conv3_6_out, conv3_12_out, global_avg], dim=1)\n",
    "        return self.conv1x1_out(out)\n",
    "\n",
    "# ✅ Hybrid Model (EfficientNet + VGG19 + Residual + ASPP)\n",
    "class HybridModel(nn.Module):\n",
    "    def __init__(self, num_classes=6):\n",
    "        super(HybridModel, self).__init__()\n",
    "        self.efficientnet = EfficientNet.from_pretrained('efficientnet-b0')\n",
    "        self.efficientnet._fc = nn.Identity()\n",
    "\n",
    "        self.vgg = models.vgg19(weights=models.VGG19_Weights.IMAGENET1K_V1)\n",
    "        self.vgg.classifier = nn.Identity()\n",
    "\n",
    "        # ✅ VGG 일부 Freeze 적용 (초반부만 Freeze)\n",
    "        for name, param in self.vgg.named_parameters():\n",
    "            if \"features.0\" in name or \"features.1\" in name or \"features.2\" in name or \"features.3\" in name or \"features.4\" in name:\n",
    "                param.requires_grad = False  # ✅ 초반부 레이어는 Freeze\n",
    "            else:\n",
    "                param.requires_grad = True   # ✅ 이후의 레이어는 학습 가능\n",
    "\n",
    "        efficientnet_out_features = self.efficientnet._conv_head.out_channels  # 1280\n",
    "        vgg_out_features = 512  # VGG19의 출력 채널 수\n",
    "\n",
    "        self.efficientnet_pool = nn.AdaptiveAvgPool2d((7, 7))\n",
    "        self.vgg_pool = nn.AdaptiveAvgPool2d((7, 7))\n",
    "\n",
    "        self.eff_conv1x1 = nn.Conv2d(efficientnet_out_features, 1024, kernel_size=1)\n",
    "        self.vgg_conv1x1 = nn.Conv2d(vgg_out_features, 1024, kernel_size=1)\n",
    "\n",
    "        self.res_block = ResidualBlock(2048, 2048)  \n",
    "        self.aspp = ASPP(in_channels=2048, out_channels=256)\n",
    "\n",
    "        self.global_avg_pool = nn.AdaptiveAvgPool2d((1, 1))  # GAP 추가\n",
    "        self.classifier = nn.Sequential(\n",
    "            nn.Linear(256, 512),  # 256 차원에서 512 차원으로 축소\n",
    "            nn.ReLU(),\n",
    "            nn.Dropout(0.3),  \n",
    "            nn.Linear(512, num_classes)\n",
    "        )\n",
    "\n",
    "    def forward(self, x):\n",
    "        eff_features = self.efficientnet.extract_features(x)\n",
    "        eff_features = self.efficientnet_pool(eff_features)\n",
    "        eff_features = self.eff_conv1x1(eff_features)\n",
    "\n",
    "        vgg_features = self.vgg.features(x)\n",
    "        vgg_features = self.vgg_pool(vgg_features)\n",
    "        vgg_features = self.vgg_conv1x1(vgg_features)\n",
    "\n",
    "        fused_features = torch.cat([eff_features, vgg_features], dim=1)  \n",
    "        fused_features = self.res_block(fused_features)  \n",
    "        aspp_features = self.aspp(fused_features)\n",
    "        gap_features = self.global_avg_pool(aspp_features)\n",
    "        flattened_features = gap_features.view(gap_features.size(0), -1)\n",
    "        return self.classifier(flattened_features)\n",
    "\n",
    "\n",
    "\n",
    "# ==============================\n",
    "# ✅ 데이터 로딩\n",
    "# ==============================\n",
    "image_size = 224\n",
    "transform = transforms.Compose([\n",
    "    transforms.Resize((image_size, image_size)),\n",
    "    transforms.ToTensor(),\n",
    "    transforms.Normalize([0.485, 0.456, 0.406], [0.229, 0.224, 0.225])\n",
    "])\n",
    "\n",
    "dataset_path = \"C:/Users/IIALAB/Desktop/kdm/solar/kaggle/input/solar-panel-images/Faulty_solar_panel\"\n",
    "\n",
    "dataset = datasets.ImageFolder(root=dataset_path, transform=transform)\n",
    "train_size = int(0.8 * len(dataset))\n",
    "test_size = len(dataset) - train_size\n",
    "train_dataset, test_dataset = random_split(dataset, [train_size, test_size])\n",
    "\n",
    "train_loader = DataLoader(train_dataset, batch_size=32, shuffle=True)\n",
    "test_loader = DataLoader(test_dataset, batch_size=32, shuffle=False)\n",
    "\n",
    "# ==============================\n",
    "# ✅ 모델, 손실 함수, 최적화기 설정\n",
    "# ==============================\n",
    "device = torch.device(\"cuda\" if torch.cuda.is_available() else \"cpu\")\n",
    "model = HybridModel(num_classes=6).to(device)  # 모델을 먼저 생성해야 함!\n",
    "\n",
    "criterion = nn.CrossEntropyLoss(label_smoothing=0.1)\n",
    "optimizer = optim.AdamW(model.parameters(), lr=0.001)\n",
    "\n",
    "# ✅ Early Stopping 적용\n",
    "early_stopping = EarlyStopping(patience=10)\n",
    "\n",
    "# ✅ 학습 함수\n",
    "def train(model, train_loader, criterion, optimizer):\n",
    "    model.train()\n",
    "    running_loss, correct, total = 0.0, 0, 0\n",
    "\n",
    "    for images, labels in tqdm(train_loader, desc=\"Training\", leave=False):\n",
    "        images, labels = images.to(device), labels.to(device)\n",
    "        optimizer.zero_grad()\n",
    "\n",
    "        outputs = model(images)\n",
    "        loss = criterion(outputs, labels)\n",
    "        loss.backward()\n",
    "        optimizer.step()\n",
    "\n",
    "        running_loss += loss.item() * images.size(0)\n",
    "        preds = outputs.argmax(dim=1)\n",
    "        correct += (preds == labels).sum().item()\n",
    "        total += labels.size(0)\n",
    "\n",
    "    return running_loss / total, correct / total\n",
    "\n",
    "# ✅ 평가 함수\n",
    "def evaluate(model, val_loader, criterion):\n",
    "    model.eval()\n",
    "    running_loss, correct, total = 0.0, 0, 0\n",
    "\n",
    "    with torch.no_grad():\n",
    "        for images, labels in tqdm(val_loader, desc=\"Evaluating\", leave=False):\n",
    "            images, labels = images.to(device), labels.to(device)\n",
    "            outputs = model(images)\n",
    "            loss = criterion(outputs, labels)\n",
    "\n",
    "            running_loss += loss.item() * images.size(0)\n",
    "            preds = outputs.argmax(dim=1)\n",
    "            correct += (preds == labels).sum().item()\n",
    "            total += labels.size(0)\n",
    "\n",
    "    return running_loss / total, correct / total\n",
    "\n",
    "# ✅ 학습 루프\n",
    "best_acc = 0.0\n",
    "num_epochs = 100\n",
    "\n",
    "for epoch in range(num_epochs):\n",
    "    print(f\"\\n[Epoch {epoch+1}/{num_epochs}]\")\n",
    "    train_loss, train_acc = train(model, train_loader, criterion, optimizer)\n",
    "    val_loss, val_acc = evaluate(model, test_loader, criterion)\n",
    "\n",
    "    print(f\"Train Loss: {train_loss:.4f} | Train Acc: {train_acc:.4f} | Val Loss: {val_loss:.4f} | Val Acc: {val_acc:.4f}\")\n",
    "\n",
    "    if val_acc > best_acc:\n",
    "        best_acc = val_acc\n",
    "        torch.save(model.state_dict(), \"best_model.pth\")\n",
    "        print(\"  [*] Best model saved.\")\n",
    "\n",
    "    early_stopping(val_loss)\n",
    "    if early_stopping.early_stop:\n",
    "        print(\"Early Stopping Triggered!\")\n",
    "        break\n",
    "\n",
    "print(f\"\\nBest Accuracy: {best_acc:.4f}\")\n",
    "\n"
   ]
  }
 ],
 "metadata": {
  "kernelspec": {
   "display_name": "solar",
   "language": "python",
   "name": "python3"
  },
  "language_info": {
   "codemirror_mode": {
    "name": "ipython",
    "version": 3
   },
   "file_extension": ".py",
   "mimetype": "text/x-python",
   "name": "python",
   "nbconvert_exporter": "python",
   "pygments_lexer": "ipython3",
   "version": "3.9.21"
  }
 },
 "nbformat": 4,
 "nbformat_minor": 2
}
