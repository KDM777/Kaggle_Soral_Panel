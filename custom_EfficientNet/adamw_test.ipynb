{
 "cells": [
  {
   "cell_type": "code",
   "execution_count": 4,
   "metadata": {},
   "outputs": [
    {
     "name": "stdout",
     "output_type": "stream",
     "text": [
      "Loaded pretrained weights for efficientnet-b0\n",
      "Using device: cuda\n",
      "\n",
      "[Epoch 1/100]\n"
     ]
    },
    {
     "name": "stderr",
     "output_type": "stream",
     "text": [
      "                                                         \r"
     ]
    },
    {
     "name": "stdout",
     "output_type": "stream",
     "text": [
      "Train Loss: 1.0149 | Train Acc: 0.6370 | Test Loss: 1.6416 | Test Acc: 0.4407\n",
      "  [*] Best model saved.\n",
      "\n",
      "[Epoch 2/100]\n"
     ]
    },
    {
     "name": "stderr",
     "output_type": "stream",
     "text": [
      "                                                         \r"
     ]
    },
    {
     "name": "stdout",
     "output_type": "stream",
     "text": [
      "Train Loss: 0.3330 | Train Acc: 0.8898 | Test Loss: 1.0712 | Test Acc: 0.6893\n",
      "  [*] Best model saved.\n",
      "\n",
      "[Epoch 3/100]\n"
     ]
    },
    {
     "name": "stderr",
     "output_type": "stream",
     "text": [
      "                                                         \r"
     ]
    },
    {
     "name": "stdout",
     "output_type": "stream",
     "text": [
      "Train Loss: 0.2264 | Train Acc: 0.9364 | Test Loss: 0.8174 | Test Acc: 0.8023\n",
      "  [*] Best model saved.\n",
      "\n",
      "[Epoch 4/100]\n"
     ]
    },
    {
     "name": "stderr",
     "output_type": "stream",
     "text": [
      "                                                         \r"
     ]
    },
    {
     "name": "stdout",
     "output_type": "stream",
     "text": [
      "Train Loss: 0.1707 | Train Acc: 0.9534 | Test Loss: 0.7243 | Test Acc: 0.8362\n",
      "  [*] Best model saved.\n",
      "\n",
      "[Epoch 5/100]\n"
     ]
    },
    {
     "name": "stderr",
     "output_type": "stream",
     "text": [
      "                                                         \r"
     ]
    },
    {
     "name": "stdout",
     "output_type": "stream",
     "text": [
      "Train Loss: 0.2315 | Train Acc: 0.9364 | Test Loss: 0.4227 | Test Acc: 0.8814\n",
      "  [*] Best model saved.\n",
      "\n",
      "[Epoch 6/100]\n"
     ]
    },
    {
     "name": "stderr",
     "output_type": "stream",
     "text": [
      "                                                         \r"
     ]
    },
    {
     "name": "stdout",
     "output_type": "stream",
     "text": [
      "Train Loss: 0.1770 | Train Acc: 0.9562 | Test Loss: 0.4434 | Test Acc: 0.8927\n",
      "  [*] Best model saved.\n",
      "\n",
      "[Epoch 7/100]\n"
     ]
    },
    {
     "name": "stderr",
     "output_type": "stream",
     "text": [
      "                                                         \r"
     ]
    },
    {
     "name": "stdout",
     "output_type": "stream",
     "text": [
      "Train Loss: 0.1132 | Train Acc: 0.9661 | Test Loss: 0.4116 | Test Acc: 0.8983\n",
      "  [*] Best model saved.\n",
      "\n",
      "[Epoch 8/100]\n"
     ]
    },
    {
     "name": "stderr",
     "output_type": "stream",
     "text": [
      "                                                         \r"
     ]
    },
    {
     "name": "stdout",
     "output_type": "stream",
     "text": [
      "Train Loss: 0.1695 | Train Acc: 0.9520 | Test Loss: 0.7202 | Test Acc: 0.8305\n",
      "\n",
      "[Epoch 9/100]\n"
     ]
    },
    {
     "name": "stderr",
     "output_type": "stream",
     "text": [
      "                                                         \r"
     ]
    },
    {
     "name": "stdout",
     "output_type": "stream",
     "text": [
      "Train Loss: 0.1658 | Train Acc: 0.9534 | Test Loss: 0.9656 | Test Acc: 0.7910\n",
      "\n",
      "[Epoch 10/100]\n"
     ]
    },
    {
     "name": "stderr",
     "output_type": "stream",
     "text": [
      "                                                         \r"
     ]
    },
    {
     "name": "stdout",
     "output_type": "stream",
     "text": [
      "Train Loss: 0.2180 | Train Acc: 0.9407 | Test Loss: 0.7786 | Test Acc: 0.8362\n",
      "\n",
      "[Epoch 11/100]\n"
     ]
    },
    {
     "name": "stderr",
     "output_type": "stream",
     "text": [
      "                                                         \r"
     ]
    },
    {
     "name": "stdout",
     "output_type": "stream",
     "text": [
      "Train Loss: 0.1559 | Train Acc: 0.9492 | Test Loss: 0.7508 | Test Acc: 0.8023\n",
      "\n",
      "[Epoch 12/100]\n"
     ]
    },
    {
     "name": "stderr",
     "output_type": "stream",
     "text": [
      "                                                         \r"
     ]
    },
    {
     "name": "stdout",
     "output_type": "stream",
     "text": [
      "Train Loss: 0.1082 | Train Acc: 0.9675 | Test Loss: 0.6545 | Test Acc: 0.8701\n",
      "\n",
      "[Epoch 13/100]\n"
     ]
    },
    {
     "name": "stderr",
     "output_type": "stream",
     "text": [
      "                                                         \r"
     ]
    },
    {
     "name": "stdout",
     "output_type": "stream",
     "text": [
      "Train Loss: 0.0676 | Train Acc: 0.9788 | Test Loss: 0.6602 | Test Acc: 0.8814\n",
      "\n",
      "[Epoch 14/100]\n"
     ]
    },
    {
     "name": "stderr",
     "output_type": "stream",
     "text": [
      "                                                         \r"
     ]
    },
    {
     "name": "stdout",
     "output_type": "stream",
     "text": [
      "Train Loss: 0.0536 | Train Acc: 0.9802 | Test Loss: 0.5345 | Test Acc: 0.8644\n",
      "\n",
      "[Epoch 15/100]\n"
     ]
    },
    {
     "name": "stderr",
     "output_type": "stream",
     "text": [
      "                                                         \r"
     ]
    },
    {
     "name": "stdout",
     "output_type": "stream",
     "text": [
      "Train Loss: 0.0616 | Train Acc: 0.9802 | Test Loss: 0.4731 | Test Acc: 0.8475\n",
      "\n",
      "[Epoch 16/100]\n"
     ]
    },
    {
     "name": "stderr",
     "output_type": "stream",
     "text": [
      "                                                         \r"
     ]
    },
    {
     "name": "stdout",
     "output_type": "stream",
     "text": [
      "Train Loss: 0.1077 | Train Acc: 0.9633 | Test Loss: 0.3823 | Test Acc: 0.8870\n",
      "\n",
      "[Epoch 17/100]\n"
     ]
    },
    {
     "name": "stderr",
     "output_type": "stream",
     "text": [
      "                                                         \r"
     ]
    },
    {
     "name": "stdout",
     "output_type": "stream",
     "text": [
      "Train Loss: 0.0767 | Train Acc: 0.9746 | Test Loss: 0.5050 | Test Acc: 0.8870\n",
      "\n",
      "[Epoch 18/100]\n"
     ]
    },
    {
     "name": "stderr",
     "output_type": "stream",
     "text": [
      "                                                         \r"
     ]
    },
    {
     "name": "stdout",
     "output_type": "stream",
     "text": [
      "Train Loss: 0.2158 | Train Acc: 0.9393 | Test Loss: 0.6307 | Test Acc: 0.8023\n",
      "\n",
      "[Epoch 19/100]\n"
     ]
    },
    {
     "name": "stderr",
     "output_type": "stream",
     "text": [
      "                                                         \r"
     ]
    },
    {
     "name": "stdout",
     "output_type": "stream",
     "text": [
      "Train Loss: 0.0870 | Train Acc: 0.9732 | Test Loss: 0.5671 | Test Acc: 0.8588\n",
      "\n",
      "[Epoch 20/100]\n"
     ]
    },
    {
     "name": "stderr",
     "output_type": "stream",
     "text": [
      "                                                         \r"
     ]
    },
    {
     "name": "stdout",
     "output_type": "stream",
     "text": [
      "Train Loss: 0.1379 | Train Acc: 0.9576 | Test Loss: 0.9903 | Test Acc: 0.7571\n",
      "\n",
      "[Epoch 21/100]\n"
     ]
    },
    {
     "name": "stderr",
     "output_type": "stream",
     "text": [
      "                                                         \r"
     ]
    },
    {
     "name": "stdout",
     "output_type": "stream",
     "text": [
      "Train Loss: 0.1565 | Train Acc: 0.9492 | Test Loss: 1.4479 | Test Acc: 0.7175\n",
      "\n",
      "[Epoch 22/100]\n"
     ]
    },
    {
     "name": "stderr",
     "output_type": "stream",
     "text": [
      "                                                         \r"
     ]
    },
    {
     "name": "stdout",
     "output_type": "stream",
     "text": [
      "Train Loss: 0.1375 | Train Acc: 0.9576 | Test Loss: 1.0091 | Test Acc: 0.7571\n",
      "\n",
      "[Epoch 23/100]\n"
     ]
    },
    {
     "name": "stderr",
     "output_type": "stream",
     "text": [
      "                                                         \r"
     ]
    },
    {
     "name": "stdout",
     "output_type": "stream",
     "text": [
      "Train Loss: 0.2090 | Train Acc: 0.9435 | Test Loss: 0.5534 | Test Acc: 0.8927\n",
      "\n",
      "[Epoch 24/100]\n"
     ]
    },
    {
     "name": "stderr",
     "output_type": "stream",
     "text": [
      "                                                         \r"
     ]
    },
    {
     "name": "stdout",
     "output_type": "stream",
     "text": [
      "Train Loss: 0.1527 | Train Acc: 0.9576 | Test Loss: 0.7168 | Test Acc: 0.8475\n",
      "\n",
      "[Epoch 25/100]\n"
     ]
    },
    {
     "name": "stderr",
     "output_type": "stream",
     "text": [
      "                                                         \r"
     ]
    },
    {
     "name": "stdout",
     "output_type": "stream",
     "text": [
      "Train Loss: 0.0871 | Train Acc: 0.9788 | Test Loss: 0.5593 | Test Acc: 0.8701\n",
      "\n",
      "[Epoch 26/100]\n"
     ]
    },
    {
     "name": "stderr",
     "output_type": "stream",
     "text": [
      "                                                         "
     ]
    },
    {
     "name": "stdout",
     "output_type": "stream",
     "text": [
      "Train Loss: 0.1109 | Train Acc: 0.9689 | Test Loss: 0.6625 | Test Acc: 0.8475\n",
      "Early Stopping Triggered!\n",
      "\n",
      "Best Accuracy: 0.8983\n"
     ]
    },
    {
     "name": "stderr",
     "output_type": "stream",
     "text": [
      "\r"
     ]
    }
   ],
   "source": [
    "import random\n",
    "import numpy as np\n",
    "import torch\n",
    "import torch.nn as nn\n",
    "import torch.optim as optim\n",
    "from torchvision import datasets, transforms\n",
    "from torch.utils.data import DataLoader, random_split\n",
    "from efficientnet_pytorch import EfficientNet\n",
    "from tqdm import tqdm\n",
    "\n",
    "# 시드 고정\n",
    "seed = 2021\n",
    "deterministic = True\n",
    "random.seed(seed)\n",
    "np.random.seed(seed)\n",
    "torch.manual_seed(seed)\n",
    "torch.cuda.manual_seed_all(seed)\n",
    "\n",
    "if deterministic:\n",
    "    torch.backends.cudnn.deterministic = True\n",
    "    torch.backends.cudnn.benchmark = False\n",
    "\n",
    "# Early Stopping 클래스\n",
    "class EarlyStopping:\n",
    "    def __init__(self, patience=10, delta=0.001):\n",
    "        self.patience = patience\n",
    "        self.delta = delta\n",
    "        self.best_loss = None\n",
    "        self.counter = 0\n",
    "        self.early_stop = False\n",
    "\n",
    "    def __call__(self, test_loss):\n",
    "        if self.best_loss is None or test_loss < self.best_loss - self.delta:\n",
    "            self.best_loss = test_loss\n",
    "            self.counter = 0\n",
    "        else:\n",
    "            self.counter += 1\n",
    "            if self.counter >= self.patience:\n",
    "                self.early_stop = True\n",
    "\n",
    "# 하이퍼파라미터 설정\n",
    "model_name = 'efficientnet-b0'\n",
    "num_classes = 6\n",
    "batch_size = 32\n",
    "epochs = 50\n",
    "learning_rate = 0.001\n",
    "image_size = EfficientNet.get_image_size(model_name)\n",
    "\n",
    "# 데이터 전처리\n",
    "transform = transforms.Compose([\n",
    "    transforms.Resize((image_size, image_size)),\n",
    "    transforms.ToTensor(),\n",
    "    transforms.Normalize(mean=[0.485, 0.456, 0.406], std=[0.229, 0.224, 0.225])\n",
    "])\n",
    "\n",
    "# 데이터셋 로드\n",
    "dataset_path = 'C:/Users/IIALAB/Desktop/kdm/solar/kaggle/input/solar-panel-images/Faulty_solar_panel'\n",
    "dataset = datasets.ImageFolder(root=dataset_path, transform=transform)\n",
    "\n",
    "# 데이터셋 분할 (80% 훈련, 20% 테스트)\n",
    "train_size = int(0.8 * len(dataset))\n",
    "test_size = len(dataset) - train_size\n",
    "train_dataset, test_dataset = random_split(dataset, [train_size, test_size])\n",
    "\n",
    "# DataLoader 정의\n",
    "train_loader = DataLoader(train_dataset, batch_size=batch_size, shuffle=True)\n",
    "test_loader = DataLoader(test_dataset, batch_size=batch_size, shuffle=False)\n",
    "\n",
    "# 모델 초기화\n",
    "device = torch.device('cuda' if torch.cuda.is_available() else 'cpu')\n",
    "model = EfficientNet.from_pretrained(model_name, num_classes=num_classes).to(device)\n",
    "\n",
    "# 기존 FC Layer의 입력 차원 확인\n",
    "in_features = model._fc.in_features  # EfficientNet의 FC 입력 차원\n",
    "\n",
    "# 새로운 classifier 정의\n",
    "model._fc = nn.Sequential(\n",
    "    nn.Linear(in_features, 512),   # 기존 in_features에서 512로 축소\n",
    "    nn.BatchNorm1d(512),           # 배치 정규화 추가\n",
    "    nn.ReLU(),                     # 활성화 함수\n",
    "    nn.Dropout(0.5),               # 드롭아웃 추가\n",
    "    nn.Linear(512, num_classes)     # 최종 출력 (num_classes)\n",
    ")\n",
    "\n",
    "# 모델을 GPU/CPU로 이동\n",
    "model.to(device)\n",
    "\n",
    "print(\"Using device:\", device)\n",
    "\n",
    "# 손실 함수 및 최적화 함수 정의\n",
    "criterion = nn.CrossEntropyLoss()\n",
    "optimizer = optim.AdamW(model.parameters(), lr=learning_rate)\n",
    "\n",
    "# ✅ 학습 함수\n",
    "def train(model, train_loader, criterion, optimizer):\n",
    "    model.train()\n",
    "    running_loss, correct, total = 0.0, 0, 0\n",
    "\n",
    "    for images, labels in tqdm(train_loader, desc=\"Training\", leave=False):\n",
    "        images, labels = images.to(device), labels.to(device)\n",
    "        optimizer.zero_grad()\n",
    "        \n",
    "        outputs = model(images)\n",
    "        loss = criterion(outputs, labels)\n",
    "        loss.backward()\n",
    "        optimizer.step()\n",
    "        \n",
    "        running_loss += loss.item() * images.size(0)\n",
    "        preds = outputs.argmax(dim=1)\n",
    "        correct += (preds == labels).sum().item()\n",
    "        total += labels.size(0)\n",
    "\n",
    "    return running_loss / total, correct / total\n",
    "\n",
    "# ✅ 평가 함수\n",
    "def evaluate(model, test_loader, criterion):\n",
    "    model.eval()\n",
    "    running_loss, correct, total = 0.0, 0, 0\n",
    "\n",
    "    with torch.no_grad():\n",
    "        for images, labels in tqdm(test_loader, desc=\"Evaluating\", leave=False):\n",
    "            images, labels = images.to(device), labels.to(device)\n",
    "            outputs = model(images)\n",
    "            loss = criterion(outputs, labels)\n",
    "            \n",
    "            running_loss += loss.item() * images.size(0)\n",
    "            preds = outputs.argmax(dim=1)\n",
    "            correct += (preds == labels).sum().item()\n",
    "            total += labels.size(0)\n",
    "\n",
    "    return running_loss / total, correct / total\n",
    "\n",
    "# ✅ 학습 루프\n",
    "best_acc = 0.0\n",
    "num_epochs = 100\n",
    "early_stopping = EarlyStopping(patience=10)\n",
    "\n",
    "for epoch in range(num_epochs):\n",
    "    print(f\"\\n[Epoch {epoch+1}/{num_epochs}]\")\n",
    "    train_loss, train_acc = train(model, train_loader, criterion, optimizer)\n",
    "    test_loss, test_acc = evaluate(model, test_loader, criterion)\n",
    "\n",
    "    print(f\"Train Loss: {train_loss:.4f} | Train Acc: {train_acc:.4f} | Test Loss: {test_loss:.4f} | Test Acc: {test_acc:.4f}\")\n",
    "\n",
    "    if test_acc > best_acc:\n",
    "        best_acc = test_acc\n",
    "        torch.save(model.state_dict(), \"./best_model.pth\")\n",
    "        print(\"  [*] Best model saved.\")\n",
    "\n",
    "    early_stopping(test_loss)\n",
    "    if early_stopping.early_stop:\n",
    "        print(\"Early Stopping Triggered!\")\n",
    "        break\n",
    "\n",
    "print(f\"\\nBest Accuracy: {best_acc:.4f}\")\n"
   ]
  },
  {
   "cell_type": "code",
   "execution_count": null,
   "metadata": {},
   "outputs": [],
   "source": [
    "import random\n",
    "import numpy as np\n",
    "import torch\n",
    "import torch.nn as nn\n",
    "import torch.optim as optim\n",
    "from torchvision import datasets, transforms\n",
    "from torch.utils.data import DataLoader, random_split\n",
    "from efficientnet_pytorch import EfficientNet\n",
    "from tqdm import tqdm\n",
    "\n",
    "# 시드 고정\n",
    "seed = 2021\n",
    "deterministic = True\n",
    "random.seed(seed)\n",
    "np.random.seed(seed)\n",
    "torch.manual_seed(seed)\n",
    "torch.cuda.manual_seed_all(seed)\n",
    "\n",
    "if deterministic:\n",
    "    torch.backends.cudnn.deterministic = True\n",
    "    torch.backends.cudnn.benchmark = False\n",
    "\n",
    "# Early Stopping 클래스\n",
    "class EarlyStopping:\n",
    "    def __init__(self, patience=10, delta=0.001):\n",
    "        self.patience = patience\n",
    "        self.delta = delta\n",
    "        self.best_loss = None\n",
    "        self.counter = 0\n",
    "        self.early_stop = False\n",
    "\n",
    "    def __call__(self, test_loss):\n",
    "        if self.best_loss is None or test_loss < self.best_loss - self.delta:\n",
    "            self.best_loss = test_loss\n",
    "            self.counter = 0\n",
    "        else:\n",
    "            self.counter += 1\n",
    "            if self.counter >= self.patience:\n",
    "                self.early_stop = True\n",
    "\n",
    "# 하이퍼파라미터 설정\n",
    "model_name = 'efficientnet-b0'\n",
    "num_classes = 6\n",
    "batch_size = 32\n",
    "epochs = 50\n",
    "learning_rate = 0.001\n",
    "image_size = EfficientNet.get_image_size(model_name)\n",
    "\n",
    "# 데이터 전처리\n",
    "transform = transforms.Compose([\n",
    "    transforms.Resize((image_size, image_size)),\n",
    "    transforms.ToTensor(),\n",
    "    transforms.Normalize(mean=[0.485, 0.456, 0.406], std=[0.229, 0.224, 0.225])\n",
    "])\n",
    "\n",
    "# 데이터셋 로드\n",
    "dataset_path = 'C:/Users/IIALAB/Desktop/kdm/solar/kaggle/input/solar-panel-images/Faulty_solar_panel'\n",
    "dataset = datasets.ImageFolder(root=dataset_path, transform=transform)\n",
    "\n",
    "# 데이터셋 분할 (80% 훈련, 20% 테스트)\n",
    "train_size = int(0.8 * len(dataset))\n",
    "test_size = len(dataset) - train_size\n",
    "train_dataset, test_dataset = random_split(dataset, [train_size, test_size])\n",
    "\n",
    "# DataLoader 정의\n",
    "train_loader = DataLoader(train_dataset, batch_size=batch_size, shuffle=True)\n",
    "test_loader = DataLoader(test_dataset, batch_size=batch_size, shuffle=False)\n",
    "\n",
    "# 모델 초기화\n",
    "device = torch.device('cuda' if torch.cuda.is_available() else 'cpu')\n",
    "model = EfficientNet.from_pretrained(model_name, num_classes=num_classes).to(device)\n",
    "\n",
    "# 기존 FC Layer의 입력 차원 확인\n",
    "in_features = model._fc.in_features  # EfficientNet의 FC 입력 차원\n",
    "\n",
    "# 새로운 classifier 정의\n",
    "model._fc = nn.Sequential(\n",
    "    nn.Linear(in_features, 512),   # 기존 in_features에서 512로 축소\n",
    "    nn.BatchNorm1d(512),           # 배치 정규화 추가\n",
    "    nn.ReLU(),                     # 활성화 함수\n",
    "    nn.Dropout(0.5),               # 드롭아웃 추가\n",
    "    nn.Linear(512, num_classes)     # 최종 출력 (num_classes)\n",
    ")\n",
    "\n",
    "# 모델을 GPU/CPU로 이동\n",
    "model.to(device)\n",
    "\n",
    "print(\"Using device:\", device)\n",
    "\n",
    "# 손실 함수 및 최적화 함수 정의\n",
    "criterion = nn.CrossEntropyLoss()\n",
    "optimizer = optim.AdamW(model.parameters(), lr=learning_rate)\n",
    "\n",
    "# ✅ 학습 함수\n",
    "def train(model, train_loader, criterion, optimizer):\n",
    "    model.train()\n",
    "    running_loss, correct, total = 0.0, 0, 0\n",
    "\n",
    "    for images, labels in tqdm(train_loader, desc=\"Training\", leave=False):\n",
    "        images, labels = images.to(device), labels.to(device)\n",
    "        optimizer.zero_grad()\n",
    "        \n",
    "        outputs = model(images)\n",
    "        loss = criterion(outputs, labels)\n",
    "        loss.backward()\n",
    "        optimizer.step()\n",
    "        \n",
    "        running_loss += loss.item() * images.size(0)\n",
    "        preds = outputs.argmax(dim=1)\n",
    "        correct += (preds == labels).sum().item()\n",
    "        total += labels.size(0)\n",
    "\n",
    "    return running_loss / total, correct / total\n",
    "\n",
    "# ✅ 평가 함수\n",
    "def evaluate(model, test_loader, criterion):\n",
    "    model.eval()\n",
    "    running_loss, correct, total = 0.0, 0, 0\n",
    "\n",
    "    with torch.no_grad():\n",
    "        for images, labels in tqdm(test_loader, desc=\"Evaluating\", leave=False):\n",
    "            images, labels = images.to(device), labels.to(device)\n",
    "            outputs = model(images)\n",
    "            loss = criterion(outputs, labels)\n",
    "            \n",
    "            running_loss += loss.item() * images.size(0)\n",
    "            preds = outputs.argmax(dim=1)\n",
    "            correct += (preds == labels).sum().item()\n",
    "            total += labels.size(0)\n",
    "\n",
    "    return running_loss / total, correct / total\n",
    "\n",
    "# ✅ 학습 루프\n",
    "best_acc = 0.0\n",
    "num_epochs = 100\n",
    "early_stopping = EarlyStopping(patience=10)\n",
    "\n",
    "for epoch in range(num_epochs):\n",
    "    print(f\"\\n[Epoch {epoch+1}/{num_epochs}]\")\n",
    "    train_loss, train_acc = train(model, train_loader, criterion, optimizer)\n",
    "    test_loss, test_acc = evaluate(model, test_loader, criterion)\n",
    "\n",
    "    print(f\"Train Loss: {train_loss:.4f} | Train Acc: {train_acc:.4f} | Test Loss: {test_loss:.4f} | Test Acc: {test_acc:.4f}\")\n",
    "\n",
    "    if test_acc > best_acc:\n",
    "        best_acc = test_acc\n",
    "        torch.save(model.state_dict(), \"./best_model.pth\")\n",
    "        print(\"  [*] Best model saved.\")\n",
    "\n",
    "    early_stopping(test_loss)\n",
    "    if early_stopping.early_stop:\n",
    "        print(\"Early Stopping Triggered!\")\n",
    "        break\n",
    "\n",
    "print(f\"\\nBest Accuracy: {best_acc:.4f}\")\n"
   ]
  },
  {
   "cell_type": "code",
   "execution_count": null,
   "metadata": {},
   "outputs": [
    {
     "name": "stdout",
     "output_type": "stream",
     "text": [
      "Using device: cuda\n",
      "\n",
      "[Epoch 1/100]\n"
     ]
    },
    {
     "name": "stderr",
     "output_type": "stream",
     "text": [
      "                                                         \r"
     ]
    },
    {
     "name": "stdout",
     "output_type": "stream",
     "text": [
      "Train Loss: 1.7704 | Train Acc: 0.2825 | Test Loss: 3.7932 | Test Acc: 0.2712\n",
      "  [*] Best model saved.\n",
      "\n",
      "[Epoch 2/100]\n"
     ]
    },
    {
     "name": "stderr",
     "output_type": "stream",
     "text": [
      "                                                         \r"
     ]
    },
    {
     "name": "stdout",
     "output_type": "stream",
     "text": [
      "Train Loss: 1.6581 | Train Acc: 0.3263 | Test Loss: 1.5815 | Test Acc: 0.4068\n",
      "  [*] Best model saved.\n",
      "\n",
      "[Epoch 3/100]\n"
     ]
    },
    {
     "name": "stderr",
     "output_type": "stream",
     "text": [
      "                                                         \r"
     ]
    },
    {
     "name": "stdout",
     "output_type": "stream",
     "text": [
      "Train Loss: 1.5353 | Train Acc: 0.3715 | Test Loss: 1.5392 | Test Acc: 0.3446\n",
      "\n",
      "[Epoch 4/100]\n"
     ]
    },
    {
     "name": "stderr",
     "output_type": "stream",
     "text": [
      "                                                         \r"
     ]
    },
    {
     "name": "stdout",
     "output_type": "stream",
     "text": [
      "Train Loss: 1.5277 | Train Acc: 0.3658 | Test Loss: 1.5546 | Test Acc: 0.4237\n",
      "  [*] Best model saved.\n",
      "\n",
      "[Epoch 5/100]\n"
     ]
    },
    {
     "name": "stderr",
     "output_type": "stream",
     "text": [
      "                                                         \r"
     ]
    },
    {
     "name": "stdout",
     "output_type": "stream",
     "text": [
      "Train Loss: 1.4468 | Train Acc: 0.4011 | Test Loss: 1.3598 | Test Acc: 0.4633\n",
      "  [*] Best model saved.\n",
      "\n",
      "[Epoch 6/100]\n"
     ]
    },
    {
     "name": "stderr",
     "output_type": "stream",
     "text": [
      "                                                         \r"
     ]
    },
    {
     "name": "stdout",
     "output_type": "stream",
     "text": [
      "Train Loss: 1.4622 | Train Acc: 0.3983 | Test Loss: 2.2605 | Test Acc: 0.2825\n",
      "\n",
      "[Epoch 7/100]\n"
     ]
    },
    {
     "name": "stderr",
     "output_type": "stream",
     "text": [
      "                                                         \r"
     ]
    },
    {
     "name": "stdout",
     "output_type": "stream",
     "text": [
      "Train Loss: 1.4163 | Train Acc: 0.4223 | Test Loss: 1.2998 | Test Acc: 0.4237\n",
      "\n",
      "[Epoch 8/100]\n"
     ]
    },
    {
     "name": "stderr",
     "output_type": "stream",
     "text": [
      "                                                         \r"
     ]
    },
    {
     "name": "stdout",
     "output_type": "stream",
     "text": [
      "Train Loss: 1.3940 | Train Acc: 0.4110 | Test Loss: 1.2829 | Test Acc: 0.5141\n",
      "  [*] Best model saved.\n",
      "\n",
      "[Epoch 9/100]\n"
     ]
    },
    {
     "name": "stderr",
     "output_type": "stream",
     "text": [
      "                                                         \r"
     ]
    },
    {
     "name": "stdout",
     "output_type": "stream",
     "text": [
      "Train Loss: 1.3627 | Train Acc: 0.4167 | Test Loss: 1.3576 | Test Acc: 0.4237\n",
      "\n",
      "[Epoch 10/100]\n"
     ]
    },
    {
     "name": "stderr",
     "output_type": "stream",
     "text": [
      "                                                         \r"
     ]
    },
    {
     "name": "stdout",
     "output_type": "stream",
     "text": [
      "Train Loss: 1.3101 | Train Acc: 0.4689 | Test Loss: 1.3002 | Test Acc: 0.4633\n",
      "\n",
      "[Epoch 11/100]\n"
     ]
    },
    {
     "name": "stderr",
     "output_type": "stream",
     "text": [
      "                                                         \r"
     ]
    },
    {
     "name": "stdout",
     "output_type": "stream",
     "text": [
      "Train Loss: 1.3353 | Train Acc: 0.4605 | Test Loss: 1.9004 | Test Acc: 0.4068\n",
      "\n",
      "[Epoch 12/100]\n"
     ]
    },
    {
     "name": "stderr",
     "output_type": "stream",
     "text": [
      "                                                         \r"
     ]
    },
    {
     "name": "stdout",
     "output_type": "stream",
     "text": [
      "Train Loss: 1.2766 | Train Acc: 0.4887 | Test Loss: 1.9258 | Test Acc: 0.4520\n",
      "\n",
      "[Epoch 13/100]\n"
     ]
    },
    {
     "name": "stderr",
     "output_type": "stream",
     "text": [
      "                                                         \r"
     ]
    },
    {
     "name": "stdout",
     "output_type": "stream",
     "text": [
      "Train Loss: 1.2553 | Train Acc: 0.5056 | Test Loss: 1.4198 | Test Acc: 0.5028\n",
      "\n",
      "[Epoch 14/100]\n"
     ]
    },
    {
     "name": "stderr",
     "output_type": "stream",
     "text": [
      "                                                         \r"
     ]
    },
    {
     "name": "stdout",
     "output_type": "stream",
     "text": [
      "Train Loss: 1.2723 | Train Acc: 0.4831 | Test Loss: 1.1627 | Test Acc: 0.5706\n",
      "  [*] Best model saved.\n",
      "\n",
      "[Epoch 15/100]\n"
     ]
    },
    {
     "name": "stderr",
     "output_type": "stream",
     "text": [
      "                                                         \r"
     ]
    },
    {
     "name": "stdout",
     "output_type": "stream",
     "text": [
      "Train Loss: 1.1753 | Train Acc: 0.5438 | Test Loss: 1.3134 | Test Acc: 0.5085\n",
      "\n",
      "[Epoch 16/100]\n"
     ]
    },
    {
     "name": "stderr",
     "output_type": "stream",
     "text": [
      "                                                         \r"
     ]
    },
    {
     "name": "stdout",
     "output_type": "stream",
     "text": [
      "Train Loss: 1.2294 | Train Acc: 0.5212 | Test Loss: 2.6586 | Test Acc: 0.4294\n",
      "\n",
      "[Epoch 17/100]\n"
     ]
    },
    {
     "name": "stderr",
     "output_type": "stream",
     "text": [
      "                                                         \r"
     ]
    },
    {
     "name": "stdout",
     "output_type": "stream",
     "text": [
      "Train Loss: 1.2732 | Train Acc: 0.4576 | Test Loss: 1.3997 | Test Acc: 0.4294\n",
      "\n",
      "[Epoch 18/100]\n"
     ]
    },
    {
     "name": "stderr",
     "output_type": "stream",
     "text": [
      "                                                         \r"
     ]
    },
    {
     "name": "stdout",
     "output_type": "stream",
     "text": [
      "Train Loss: 1.3000 | Train Acc: 0.4746 | Test Loss: 1.3395 | Test Acc: 0.4633\n",
      "\n",
      "[Epoch 19/100]\n"
     ]
    },
    {
     "name": "stderr",
     "output_type": "stream",
     "text": [
      "                                                         \r"
     ]
    },
    {
     "name": "stdout",
     "output_type": "stream",
     "text": [
      "Train Loss: 1.1095 | Train Acc: 0.5720 | Test Loss: 1.5617 | Test Acc: 0.3390\n",
      "\n",
      "[Epoch 20/100]\n"
     ]
    },
    {
     "name": "stderr",
     "output_type": "stream",
     "text": [
      "                                                         \r"
     ]
    },
    {
     "name": "stdout",
     "output_type": "stream",
     "text": [
      "Train Loss: 1.0525 | Train Acc: 0.6172 | Test Loss: 1.2175 | Test Acc: 0.5085\n",
      "\n",
      "[Epoch 21/100]\n"
     ]
    },
    {
     "name": "stderr",
     "output_type": "stream",
     "text": [
      "                                                         \r"
     ]
    },
    {
     "name": "stdout",
     "output_type": "stream",
     "text": [
      "Train Loss: 1.1649 | Train Acc: 0.5607 | Test Loss: 1.1113 | Test Acc: 0.6215\n",
      "  [*] Best model saved.\n",
      "\n",
      "[Epoch 22/100]\n"
     ]
    },
    {
     "name": "stderr",
     "output_type": "stream",
     "text": [
      "                                                         \r"
     ]
    },
    {
     "name": "stdout",
     "output_type": "stream",
     "text": [
      "Train Loss: 1.0323 | Train Acc: 0.6243 | Test Loss: 1.5974 | Test Acc: 0.5254\n",
      "\n",
      "[Epoch 23/100]\n"
     ]
    },
    {
     "name": "stderr",
     "output_type": "stream",
     "text": [
      "                                                         \r"
     ]
    },
    {
     "name": "stdout",
     "output_type": "stream",
     "text": [
      "Train Loss: 0.9719 | Train Acc: 0.6412 | Test Loss: 2.3609 | Test Acc: 0.3898\n",
      "\n",
      "[Epoch 24/100]\n"
     ]
    },
    {
     "name": "stderr",
     "output_type": "stream",
     "text": [
      "                                                         \r"
     ]
    },
    {
     "name": "stdout",
     "output_type": "stream",
     "text": [
      "Train Loss: 0.9163 | Train Acc: 0.6525 | Test Loss: 1.2129 | Test Acc: 0.5593\n",
      "\n",
      "[Epoch 25/100]\n"
     ]
    },
    {
     "name": "stderr",
     "output_type": "stream",
     "text": [
      "                                                         \r"
     ]
    },
    {
     "name": "stdout",
     "output_type": "stream",
     "text": [
      "Train Loss: 0.8776 | Train Acc: 0.6709 | Test Loss: 1.1022 | Test Acc: 0.6102\n",
      "\n",
      "[Epoch 26/100]\n"
     ]
    },
    {
     "name": "stderr",
     "output_type": "stream",
     "text": [
      "                                                         \r"
     ]
    },
    {
     "name": "stdout",
     "output_type": "stream",
     "text": [
      "Train Loss: 0.8591 | Train Acc: 0.6907 | Test Loss: 1.2507 | Test Acc: 0.5537\n",
      "\n",
      "[Epoch 27/100]\n"
     ]
    },
    {
     "name": "stderr",
     "output_type": "stream",
     "text": [
      "                                                         \r"
     ]
    },
    {
     "name": "stdout",
     "output_type": "stream",
     "text": [
      "Train Loss: 0.7687 | Train Acc: 0.7232 | Test Loss: 1.0196 | Test Acc: 0.6497\n",
      "  [*] Best model saved.\n",
      "\n",
      "[Epoch 28/100]\n"
     ]
    },
    {
     "name": "stderr",
     "output_type": "stream",
     "text": [
      "                                                         \r"
     ]
    },
    {
     "name": "stdout",
     "output_type": "stream",
     "text": [
      "Train Loss: 0.7575 | Train Acc: 0.7274 | Test Loss: 1.5991 | Test Acc: 0.4802\n",
      "\n",
      "[Epoch 29/100]\n"
     ]
    },
    {
     "name": "stderr",
     "output_type": "stream",
     "text": [
      "                                                         \r"
     ]
    },
    {
     "name": "stdout",
     "output_type": "stream",
     "text": [
      "Train Loss: 0.8334 | Train Acc: 0.6977 | Test Loss: 1.0607 | Test Acc: 0.6045\n",
      "\n",
      "[Epoch 30/100]\n"
     ]
    },
    {
     "name": "stderr",
     "output_type": "stream",
     "text": [
      "                                                         \r"
     ]
    },
    {
     "name": "stdout",
     "output_type": "stream",
     "text": [
      "Train Loss: 0.8160 | Train Acc: 0.6935 | Test Loss: 1.1781 | Test Acc: 0.5819\n",
      "\n",
      "[Epoch 31/100]\n"
     ]
    },
    {
     "name": "stderr",
     "output_type": "stream",
     "text": [
      "                                                         \r"
     ]
    },
    {
     "name": "stdout",
     "output_type": "stream",
     "text": [
      "Train Loss: 0.8012 | Train Acc: 0.7076 | Test Loss: 1.0397 | Test Acc: 0.6271\n",
      "\n",
      "[Epoch 32/100]\n"
     ]
    },
    {
     "name": "stderr",
     "output_type": "stream",
     "text": [
      "                                                         \r"
     ]
    },
    {
     "name": "stdout",
     "output_type": "stream",
     "text": [
      "Train Loss: 0.7694 | Train Acc: 0.7260 | Test Loss: 1.0250 | Test Acc: 0.6610\n",
      "  [*] Best model saved.\n",
      "\n",
      "[Epoch 33/100]\n"
     ]
    },
    {
     "name": "stderr",
     "output_type": "stream",
     "text": [
      "                                                         \r"
     ]
    },
    {
     "name": "stdout",
     "output_type": "stream",
     "text": [
      "Train Loss: 0.6242 | Train Acc: 0.7698 | Test Loss: 1.0027 | Test Acc: 0.6723\n",
      "  [*] Best model saved.\n",
      "\n",
      "[Epoch 34/100]\n"
     ]
    },
    {
     "name": "stderr",
     "output_type": "stream",
     "text": [
      "                                                         \r"
     ]
    },
    {
     "name": "stdout",
     "output_type": "stream",
     "text": [
      "Train Loss: 0.6518 | Train Acc: 0.7571 | Test Loss: 1.2449 | Test Acc: 0.6441\n",
      "\n",
      "[Epoch 35/100]\n"
     ]
    },
    {
     "name": "stderr",
     "output_type": "stream",
     "text": [
      "                                                         \r"
     ]
    },
    {
     "name": "stdout",
     "output_type": "stream",
     "text": [
      "Train Loss: 0.7253 | Train Acc: 0.7429 | Test Loss: 1.1264 | Test Acc: 0.6610\n",
      "\n",
      "[Epoch 36/100]\n"
     ]
    },
    {
     "name": "stderr",
     "output_type": "stream",
     "text": [
      "                                                         \r"
     ]
    },
    {
     "name": "stdout",
     "output_type": "stream",
     "text": [
      "Train Loss: 0.5532 | Train Acc: 0.7952 | Test Loss: 1.2045 | Test Acc: 0.6384\n",
      "\n",
      "[Epoch 37/100]\n"
     ]
    },
    {
     "name": "stderr",
     "output_type": "stream",
     "text": [
      "                                                         \r"
     ]
    },
    {
     "name": "stdout",
     "output_type": "stream",
     "text": [
      "Train Loss: 0.8352 | Train Acc: 0.6921 | Test Loss: 1.2587 | Test Acc: 0.5650\n",
      "\n",
      "[Epoch 38/100]\n"
     ]
    },
    {
     "name": "stderr",
     "output_type": "stream",
     "text": [
      "                                                         \r"
     ]
    },
    {
     "name": "stdout",
     "output_type": "stream",
     "text": [
      "Train Loss: 0.6746 | Train Acc: 0.7514 | Test Loss: 1.0347 | Test Acc: 0.6497\n",
      "\n",
      "[Epoch 39/100]\n"
     ]
    },
    {
     "name": "stderr",
     "output_type": "stream",
     "text": [
      "                                                         \r"
     ]
    },
    {
     "name": "stdout",
     "output_type": "stream",
     "text": [
      "Train Loss: 0.4786 | Train Acc: 0.8305 | Test Loss: 1.5218 | Test Acc: 0.6102\n",
      "\n",
      "[Epoch 40/100]\n"
     ]
    },
    {
     "name": "stderr",
     "output_type": "stream",
     "text": [
      "                                                         \r"
     ]
    },
    {
     "name": "stdout",
     "output_type": "stream",
     "text": [
      "Train Loss: 0.5332 | Train Acc: 0.8093 | Test Loss: 1.0859 | Test Acc: 0.6497\n",
      "\n",
      "[Epoch 41/100]\n"
     ]
    },
    {
     "name": "stderr",
     "output_type": "stream",
     "text": [
      "                                                         \r"
     ]
    },
    {
     "name": "stdout",
     "output_type": "stream",
     "text": [
      "Train Loss: 0.3780 | Train Acc: 0.8701 | Test Loss: 1.3217 | Test Acc: 0.5932\n",
      "\n",
      "[Epoch 42/100]\n"
     ]
    },
    {
     "name": "stderr",
     "output_type": "stream",
     "text": [
      "                                                         \r"
     ]
    },
    {
     "name": "stdout",
     "output_type": "stream",
     "text": [
      "Train Loss: 0.5838 | Train Acc: 0.7853 | Test Loss: 1.2528 | Test Acc: 0.5989\n",
      "\n",
      "[Epoch 43/100]\n"
     ]
    },
    {
     "name": "stderr",
     "output_type": "stream",
     "text": [
      "                                                         "
     ]
    },
    {
     "name": "stdout",
     "output_type": "stream",
     "text": [
      "Train Loss: 0.4843 | Train Acc: 0.8277 | Test Loss: 1.3036 | Test Acc: 0.6215\n",
      "Early Stopping Triggered!\n",
      "\n",
      "Best Accuracy: 0.6723\n"
     ]
    },
    {
     "name": "stderr",
     "output_type": "stream",
     "text": [
      "\r"
     ]
    }
   ],
   "source": [
    "import random\n",
    "import numpy as np\n",
    "import torch\n",
    "import torch.nn as nn\n",
    "import torch.optim as optim\n",
    "from torchvision import datasets, transforms, models\n",
    "from torch.utils.data import DataLoader, random_split\n",
    "from tqdm import tqdm\n",
    "\n",
    "# ✅ 시드 고정\n",
    "seed = 2021\n",
    "random.seed(seed)\n",
    "np.random.seed(seed)\n",
    "torch.manual_seed(seed)\n",
    "torch.cuda.manual_seed_all(seed)\n",
    "torch.backends.cudnn.deterministic = True\n",
    "torch.backends.cudnn.benchmark = False\n",
    "\n",
    "# ✅ 하이퍼파라미터 설정\n",
    "num_classes = 6\n",
    "batch_size = 32\n",
    "learning_rate = 0.001  # VGG19의 안정적인 학습을 위해 낮은 lr 사용\n",
    "image_size = 224  # VGG19의 입력 크기\n",
    "\n",
    "# ✅ 데이터 전처리\n",
    "transform = transforms.Compose([\n",
    "    transforms.Resize((image_size, image_size)),\n",
    "    transforms.ToTensor(),\n",
    "    transforms.Normalize(mean=[0.485, 0.456, 0.406], std=[0.229, 0.224, 0.225])\n",
    "])\n",
    "\n",
    "# ✅ 데이터셋 로드\n",
    "dataset_path = 'C:/Users/IIALAB/Desktop/kdm/solar/kaggle/input/solar-panel-images/Faulty_solar_panel'\n",
    "dataset = datasets.ImageFolder(root=dataset_path, transform=transform)\n",
    "\n",
    "# ✅ 데이터셋 분할 (80% 훈련, 20% 테스트)\n",
    "train_size = int(0.8 * len(dataset))\n",
    "test_size = len(dataset) - train_size\n",
    "train_dataset, test_dataset = random_split(dataset, [train_size, test_size])\n",
    "\n",
    "# ✅ DataLoader 정의\n",
    "train_loader = DataLoader(train_dataset, batch_size=batch_size, shuffle=True)\n",
    "test_loader = DataLoader(test_dataset, batch_size=batch_size, shuffle=False)\n",
    "\n",
    "# ✅ VGG19 모델 불러오기 (EfficientNet과 유사한 방식 적용)\n",
    "device = torch.device('cuda' if torch.cuda.is_available() else 'cpu')\n",
    "# ✅ 최신 PyTorch 권장 방식으로 사전 학습된 가중치 로드\n",
    "model = models.vgg19(weights=models.VGG19_Weights.IMAGENET1K_V1)  # ✅ 최신 방식 사용\n",
    "# ✅ 마지막 분류기 수정 (EfficientNet처럼 사용)\n",
    "model.classifier[6] = nn.Sequential(\n",
    "            nn.Linear(4096, 512),\n",
    "            nn.BatchNorm1d(512),\n",
    "            nn.ReLU(),\n",
    "            nn.Dropout(0.5),\n",
    "            nn.Linear(512, num_classes)\n",
    "        )\n",
    "model = model.to(device)\n",
    "\n",
    "\n",
    "print(\"Using device:\", device)\n",
    "\n",
    "# ✅ 손실 함수 및 최적화 함수 정의 (EfficientNet과 동일한 방식 적용)\n",
    "criterion = nn.CrossEntropyLoss(label_smoothing=0.1)\n",
    "optimizer = optim.AdamW(model.parameters(), lr=learning_rate)\n",
    "\n",
    "# ✅ 학습 함수\n",
    "def train(model, train_loader, criterion, optimizer):\n",
    "    model.train()\n",
    "    running_loss, correct, total = 0.0, 0, 0\n",
    "\n",
    "    for images, labels in tqdm(train_loader, desc=\"Training\", leave=False):\n",
    "        images, labels = images.to(device), labels.to(device)\n",
    "        optimizer.zero_grad()\n",
    "        \n",
    "        outputs = model(images)\n",
    "        loss = criterion(outputs, labels)\n",
    "        loss.backward()\n",
    "        optimizer.step()\n",
    "        \n",
    "        running_loss += loss.item() * images.size(0)\n",
    "        preds = outputs.argmax(dim=1)\n",
    "        correct += (preds == labels).sum().item()\n",
    "        total += labels.size(0)\n",
    "\n",
    "    return running_loss / total, correct / total\n",
    "\n",
    "# ✅ 평가 함수\n",
    "def evaluate(model, test_loader, criterion):\n",
    "    model.eval()\n",
    "    running_loss, correct, total = 0.0, 0, 0\n",
    "\n",
    "    with torch.no_grad():\n",
    "        for images, labels in tqdm(test_loader, desc=\"Evaluating\", leave=False):\n",
    "            images, labels = images.to(device), labels.to(device)\n",
    "            outputs = model(images)\n",
    "            loss = criterion(outputs, labels)\n",
    "            \n",
    "            running_loss += loss.item() * images.size(0)\n",
    "            preds = outputs.argmax(dim=1)\n",
    "            correct += (preds == labels).sum().item()\n",
    "            total += labels.size(0)\n",
    "\n",
    "    return running_loss / total, correct / total\n",
    "\n",
    "# ✅ 학습 루프\n",
    "best_acc = 0.0\n",
    "num_epochs = 100\n",
    "early_stopping = EarlyStopping(patience=10)\n",
    "\n",
    "for epoch in range(num_epochs):\n",
    "    print(f\"\\n[Epoch {epoch+1}/{num_epochs}]\")\n",
    "    train_loss, train_acc = train(model, train_loader, criterion, optimizer)\n",
    "    test_loss, test_acc = evaluate(model, test_loader, criterion)\n",
    "\n",
    "    print(f\"Train Loss: {train_loss:.4f} | Train Acc: {train_acc:.4f} | Test Loss: {test_loss:.4f} | Test Acc: {test_acc:.4f}\")\n",
    "\n",
    "    if test_acc > best_acc:\n",
    "        best_acc = test_acc\n",
    "        torch.save(model.state_dict(), \"./best_model.pth\")\n",
    "        print(\"  [*] Best model saved.\")\n",
    "\n",
    "    early_stopping(test_loss)\n",
    "    if early_stopping.early_stop:\n",
    "        print(\"Early Stopping Triggered!\")\n",
    "        break\n",
    "\n",
    "print(f\"\\nBest Accuracy: {best_acc:.4f}\")\n"
   ]
  },
  {
   "cell_type": "code",
   "execution_count": null,
   "metadata": {},
   "outputs": [],
   "source": []
  }
 ],
 "metadata": {
  "kernelspec": {
   "display_name": "solar",
   "language": "python",
   "name": "python3"
  },
  "language_info": {
   "codemirror_mode": {
    "name": "ipython",
    "version": 3
   },
   "file_extension": ".py",
   "mimetype": "text/x-python",
   "name": "python",
   "nbconvert_exporter": "python",
   "pygments_lexer": "ipython3",
   "version": "3.9.21"
  }
 },
 "nbformat": 4,
 "nbformat_minor": 2
}
